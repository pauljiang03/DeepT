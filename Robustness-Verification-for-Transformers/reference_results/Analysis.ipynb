{
 "cells": [
  {
   "cell_type": "code",
   "execution_count": null,
   "metadata": {
    "ExecuteTime": {
     "end_time": "2021-04-11T15:19:18.001863Z",
     "start_time": "2021-04-11T15:19:17.471991Z"
    }
   },
   "outputs": [],
   "source": [
    "%matplotlib inline"
   ]
  },
  {
   "cell_type": "code",
   "execution_count": null,
   "metadata": {
    "ExecuteTime": {
     "end_time": "2021-04-11T15:19:18.903288Z",
     "start_time": "2021-04-11T15:19:18.003897Z"
    }
   },
   "outputs": [],
   "source": [
    "import matplotlib.pyplot as plt\n",
    "import seaborn as sns\n",
    "import numpy as np\n",
    "import pandas as pd\n",
    "from pathlib import Path\n",
    "from pprint import pprint\n",
    "sns.set()"
   ]
  },
  {
   "cell_type": "markdown",
   "metadata": {},
   "source": [
    "### Analyse the data"
   ]
  },
  {
   "cell_type": "code",
   "execution_count": null,
   "metadata": {
    "ExecuteTime": {
     "end_time": "2021-04-11T15:19:18.908683Z",
     "start_time": "2021-04-11T15:19:18.905619Z"
    }
   },
   "outputs": [],
   "source": [
    "BASE_DIR = \".\"\n",
    "BASE_PATH = Path(BASE_DIR)"
   ]
  },
  {
   "cell_type": "code",
   "execution_count": null,
   "metadata": {
    "ExecuteTime": {
     "end_time": "2021-04-11T15:19:18.928873Z",
     "start_time": "2021-04-11T15:19:18.912072Z"
    }
   },
   "outputs": [],
   "source": [
    "def get_data(base_path, dataset, normal_case=False, big=False, standard_layer_norm=False, constraint_comp=False, l1l2=False, compare_dot_product=False, num_layers_list=None, table=None):\n",
    "    all_data = []\n",
    "\n",
    "    if compare_dot_product:\n",
    "        relevant_norms = [\"1\", \"2\"]\n",
    "    elif dataset == \"sstSubset\":\n",
    "        relevant_norms = [\"1\", \"2\"] if l1l2 else [\"inf\"]\n",
    "    else:\n",
    "        relevant_norms = [\"1\", \"2\", \"inf\"]\n",
    "    \n",
    "    if standard_layer_norm:\n",
    "        netName = f\"bert_standard_layer_norm\"\n",
    "        size = \"big\"\n",
    "    elif big:\n",
    "        netName = f\"bert_big\"\n",
    "        size = \"big\"\n",
    "    elif dataset == \"sstSubset\":\n",
    "        netName = f\"bert_smaller\"\n",
    "        size = \"smaller\"\n",
    "    else:\n",
    "        netName = f\"bert_small\"\n",
    "        size = \"small\"\n",
    "        \n",
    "    if dataset == \"sstSubset\" or dataset == \"sst\":\n",
    "        dir = \"sst\"\n",
    "    else:\n",
    "        dir = \"yelp\"\n",
    "        \n",
    "    \n",
    "    \n",
    "    \n",
    "    num_layers_list = [\"3\", \"6\", \"12\"]\n",
    "    if table == 2:\n",
    "        methods_and_labels = [(\"zonotope\", \"DeepT-Fast\"), (\"zonotopeSlow\", \"DeepT-Precise\"), (\"backward\", \"CROWN-Backward\"), (\"baf\", \"CROWN-BaF\")]\n",
    "    elif constraint_comp:\n",
    "        methods_and_labels = [(\"zonotopeNoConstraint\", \"DeepT-Fast-No-Constraint\"), (\"zonotope\", \"DeepT-Fast\")]\n",
    "    elif compare_dot_product:\n",
    "        methods_and_labels = [(\"zonotopeOtherDotProduct\", \"DeepT-Fast-Lp-First\"), (\"zonotope\", \"DeepT-Fast-Linf-First\")]\n",
    "    elif dataset == \"sstSubset\":\n",
    "        if l1l2:\n",
    "            methods_and_labels = [(\"zonotope\", \"DeepT-Fast\"), (\"baf\", \"CROWN-BaF\"), (\"backward\", \"CROWN-Backward\")]\n",
    "        elif normal_case:\n",
    "            methods_and_labels = [(\"zonotope\", \"DeepT-Fast\"), (\"zonotopeSlow\", \"DeepT-Precise\"), (\"baf\", \"CROWN-BaF\")]\n",
    "        else:\n",
    "            methods_and_labels = [(\"zonotope\", \"DeepT-Fast\"), (\"zonotopeSlow\", \"DeepT-Precise\"), (\"backward\", \"CROWN-Backward\"), (\"baf\", \"CROWN-BaF\")]\n",
    "    else:\n",
    "        methods_and_labels = [(\"baf\", \"CROWN-BaF\"), (\"zonotope\", \"DeepT-Fast\")]\n",
    "    \n",
    "    for p in relevant_norms:\n",
    "        for num_layers in num_layers_list:\n",
    "            for method, method_label in methods_and_labels:\n",
    "                if method == \"baf\" or method == \"backward\":\n",
    "                    glob_path = f\"*{dataset}_{dir}_{netName}_{num_layers}_{size}_{method}_{p}_*.csv\"\n",
    "                elif method_label == \"DeepT-Precise\":\n",
    "                    if dataset == \"sstSubset\" and num_layers == \"12\" and method == \"zonotopeSlow\":\n",
    "                        glob_path = f\"*{dataset}_{dir}_{netName}_{num_layers}_{size}_{method}_{p}_box_7000_WithConstraint_*.csv\"\n",
    "                    else:\n",
    "                        glob_path = f\"*{dataset}_{dir}_{netName}_{num_layers}_{size}_{method}_{p}_box_7000_WithConstraint_*.csv\"\n",
    "                elif method_label == \"DeepT-Fast\" or method_label == \"DeepT-Fast-Linf-First\":\n",
    "                    glob_path = f\"*{dataset}_{dir}_{netName}_{num_layers}_{size}_zonotope_{p}_box_14000_WithConstraint_*.csv\"\n",
    "                elif method_label == \"DeepT-Fast-No-Constraint\":\n",
    "                    glob_path = f\"*{dataset}_{dir}_{netName}_{num_layers}_{size}_zonotope_{p}_box_14000_NoConstraint*.csv\"\n",
    "                elif method_label == \"DeepT-Fast-Lp-First\":\n",
    "                    glob_path = f\"*{dataset}_{dir}_{netName}_{num_layers}_{size}_zonotope_{p}_box_14000_WithConstraintOtherDotProductOrder_*.csv\"\n",
    "                \n",
    "\n",
    "                \n",
    "                all_files = list(base_path.glob(glob_path))\n",
    "                #print(glob_path)\n",
    "                #print(list(base_path.glob(\"*\")))\n",
    "                #print()\n",
    "                if len(all_files) == 0:\n",
    "                    print(f\"No data for method={method} method_label={method_label} p={p} num_layers={num_layers} glob_path={glob_path}\")\n",
    "                    continue\n",
    "\n",
    "                assert len(all_files) >= 1, f\"*_{num_layers}_small_{method}_{p}_*\"\n",
    "\n",
    "                sorted_files = list(sorted(all_files, key=lambda x: x.stat().st_mtime))\n",
    "                latest_file = sorted_files[-1]\n",
    "                print(method_label, \":\", latest_file)\n",
    "\n",
    "                try:\n",
    "                    df = pd.read_csv(latest_file)\n",
    "                    df['p'] = p\n",
    "                    df['num_layers'] = int(num_layers)\n",
    "                    df['Method'] = method_label\n",
    "                    \n",
    "                    if 'memory' not in df.columns:\n",
    "                        df[\"memory\"] = -1\n",
    "                    \n",
    "                    all_data.append(df)\n",
    "                except pd.errors.EmptyDataError:\n",
    "                    print(f\"Empty CSV file for method={method} p={p} num_layers={num_layers}\")\n",
    "\n",
    "    all_data_df = pd.concat(all_data, ignore_index=True)\n",
    "    all_data_df[\"sentence\"] = pd.to_numeric(all_data_df[\"sentence\"])\n",
    "    all_data_df[\"position\"] = pd.to_numeric(all_data_df[\"position\"])\n",
    "    return all_data_df"
   ]
  },
  {
   "cell_type": "code",
   "execution_count": null,
   "metadata": {
    "ExecuteTime": {
     "end_time": "2021-04-11T15:19:19.057188Z",
     "start_time": "2021-04-11T15:19:18.931281Z"
    }
   },
   "outputs": [],
   "source": [
    "print(BASE_PATH)  # Table 1\n",
    "all_data_df = get_data(BASE_PATH.parent.parent / \"normal_case\" , dataset=\"sst\")"
   ]
  },
  {
   "cell_type": "code",
   "execution_count": null,
   "metadata": {
    "ExecuteTime": {
     "end_time": "2021-04-11T15:19:19.131411Z",
     "start_time": "2021-04-11T15:19:19.060659Z"
    }
   },
   "outputs": [],
   "source": [
    "SMALLER_NETWORK_RESULTS_PATH = BASE_PATH.parent.parent / 'smaller_network_results/'  # Table 2\n",
    "print(SMALLER_NETWORK_RESULTS_PATH.absolute())\n",
    "all_data_smaller_df = get_data(SMALLER_NETWORK_RESULTS_PATH, dataset=\"sstSubset\", table=2)\n",
    "all_data_smaller_df;"
   ]
  },
  {
   "cell_type": "code",
   "execution_count": null,
   "metadata": {
    "ExecuteTime": {
     "end_time": "2021-04-11T15:19:19.254155Z",
     "start_time": "2021-04-11T15:19:19.133218Z"
    }
   },
   "outputs": [],
   "source": [
    "L1L2_RESULTS_PATH = BASE_PATH.parent.parent / \"l1l2\"  # Table 3\n",
    "print(L1L2_RESULTS_PATH.absolute())\n",
    "all_data_l1l2_df = get_data(L1L2_RESULTS_PATH, dataset=\"sstSubset\", l1l2=True)\n",
    "all_data_l1l2_df;"
   ]
  },
  {
   "cell_type": "code",
   "execution_count": null,
   "metadata": {
    "ExecuteTime": {
     "end_time": "2021-04-11T15:19:19.359757Z",
     "start_time": "2021-04-11T15:19:19.256199Z"
    }
   },
   "outputs": [],
   "source": [
    "NO_CONSTRAINT_RESULTS_PATH = BASE_PATH.parent.parent / \"no_constraint_results\"  # Table 4\n",
    "print(NO_CONSTRAINT_RESULTS_PATH.absolute())\n",
    "all_data_constraint_comp_df = get_data(NO_CONSTRAINT_RESULTS_PATH, dataset=\"sst\", constraint_comp=True)\n",
    "all_data_constraint_comp_df;"
   ]
  },
  {
   "cell_type": "code",
   "execution_count": null,
   "metadata": {
    "ExecuteTime": {
     "end_time": "2021-04-11T15:19:19.441843Z",
     "start_time": "2021-04-11T15:19:19.362820Z"
    }
   },
   "outputs": [],
   "source": [
    "OTHER_DOT_PRODUCT_RESULTS_PATH = BASE_PATH.parent.parent / \"other_dot_product_results\"  # Table 5\n",
    "print(OTHER_DOT_PRODUCT_RESULTS_PATH.absolute())\n",
    "all_data_other_dot_product_df = get_data(OTHER_DOT_PRODUCT_RESULTS_PATH, dataset=\"sst\", compare_dot_product=True)\n",
    "all_data_other_dot_product_df;"
   ]
  },
  {
   "cell_type": "code",
   "execution_count": null,
   "metadata": {
    "ExecuteTime": {
     "end_time": "2021-04-11T15:19:19.615691Z",
     "start_time": "2021-04-11T15:19:19.445100Z"
    }
   },
   "outputs": [],
   "source": [
    "data_big_df = get_data(BASE_PATH.parent.parent / \"big\" , dataset=\"sst\", big=True)\n",
    "data_big_df = data_big_df[(data_big_df['num_layers'] != 12) | (data_big_df['Method'] == 'Zonotope-Fast')]"
   ]
  },
  {
   "cell_type": "code",
   "execution_count": null,
   "metadata": {
    "ExecuteTime": {
     "end_time": "2021-04-11T15:19:19.735464Z",
     "start_time": "2021-04-11T15:19:19.617734Z"
    }
   },
   "outputs": [],
   "source": [
    "data_yelp_df = get_data(BASE_PATH.parent.parent / \"yelp\" , dataset=\"yelp\")"
   ]
  },
  {
   "cell_type": "code",
   "execution_count": null,
   "metadata": {
    "ExecuteTime": {
     "end_time": "2021-04-11T15:19:19.868590Z",
     "start_time": "2021-04-11T15:19:19.740417Z"
    },
    "scrolled": false
   },
   "outputs": [],
   "source": [
    "data_standard_layer_norm_df = get_data(BASE_PATH.parent.parent / \"standard_layer_norm\" , dataset=\"sst\", standard_layer_norm=True)"
   ]
  },
  {
   "cell_type": "code",
   "execution_count": null,
   "metadata": {
    "ExecuteTime": {
     "end_time": "2021-04-11T15:19:20.073759Z",
     "start_time": "2021-04-11T15:19:19.871741Z"
    }
   },
   "outputs": [],
   "source": [
    "def process_data(data_df):\n",
    "    try:\n",
    "        data_avg = data_df.groupby(['p', 'num_layers', 'Method'], as_index=False).mean()\n",
    "        data_min = data_df.groupby(['p', 'num_layers', 'Method'], as_index=False).min()\n",
    "        \n",
    "        data_avg = data_avg.drop(columns=[\"sentence\", \"position\"])#.reset_index()\n",
    "        data_min = data_min.drop(columns=[\"sentence\", \"position\"])#.reset_index()\n",
    "        \n",
    "        data_avg = data_avg.sort_values(['num_layers', 'p']).astype({'p':\"category\", \"Method\": \"category\", \"num_layers\": \"category\"}).reset_index()\n",
    "        data_min = data_min.sort_values(['num_layers', 'p']).astype({'p':\"category\", \"Method\": \"category\", \"num_layers\": \"category\"}).reset_index()\n",
    "\n",
    "        data = data_avg.rename(columns={\"eps\": \"avg_eps\"})\n",
    "        \n",
    "        data[\"min_eps\"] = data_min[\"eps\"]\n",
    "        data = data[[\"num_layers\", \"p\", \"Method\", \"min_eps\", \"avg_eps\", \"timing\", \"memory\"]]\n",
    "        \n",
    "        return data\n",
    "    except Exception as e:\n",
    "        print(f\"Couldn't process dataframe. Exception {e}\")\n",
    "        return None, None\n",
    "\n",
    "data_normal = process_data(all_data_df)\n",
    "data_smaller =  process_data(all_data_smaller_df)\n",
    "data_l1l2 = process_data(all_data_l1l2_df)\n",
    "data_constraint = process_data(all_data_constraint_comp_df)\n",
    "data_dot_product = process_data(all_data_other_dot_product_df)\n",
    "\n",
    "data_big = process_data(data_big_df)\n",
    "data_yelp =  process_data(data_yelp_df)\n",
    "data_standard_layer_norm = process_data(data_standard_layer_norm_df)"
   ]
  },
  {
   "cell_type": "code",
   "execution_count": null,
   "metadata": {
    "ExecuteTime": {
     "end_time": "2021-04-11T15:19:20.094754Z",
     "start_time": "2021-04-11T15:19:20.075926Z"
    }
   },
   "outputs": [],
   "source": [
    "data_normal  # Table 1"
   ]
  },
  {
   "cell_type": "code",
   "execution_count": null,
   "metadata": {
    "ExecuteTime": {
     "end_time": "2021-04-11T15:19:20.111872Z",
     "start_time": "2021-04-11T15:19:20.096400Z"
    }
   },
   "outputs": [],
   "source": [
    "data_yelp # Table 2"
   ]
  },
  {
   "cell_type": "code",
   "execution_count": null,
   "metadata": {
    "ExecuteTime": {
     "end_time": "2021-04-11T15:19:20.133905Z",
     "start_time": "2021-04-11T15:19:20.114131Z"
    }
   },
   "outputs": [],
   "source": [
    "data_big # Table 3"
   ]
  },
  {
   "cell_type": "code",
   "execution_count": null,
   "metadata": {
    "ExecuteTime": {
     "end_time": "2021-04-11T15:19:20.160068Z",
     "start_time": "2021-04-11T15:19:20.138006Z"
    }
   },
   "outputs": [],
   "source": [
    "data_smaller  # Table 4 / Table 12"
   ]
  },
  {
   "cell_type": "code",
   "execution_count": null,
   "metadata": {
    "ExecuteTime": {
     "end_time": "2021-04-11T15:19:20.180175Z",
     "start_time": "2021-04-11T15:19:20.162224Z"
    }
   },
   "outputs": [],
   "source": [
    "data_l1l2  # Table 5"
   ]
  },
  {
   "cell_type": "code",
   "execution_count": null,
   "metadata": {
    "ExecuteTime": {
     "end_time": "2021-04-11T15:19:20.196587Z",
     "start_time": "2021-04-11T15:19:20.182905Z"
    }
   },
   "outputs": [],
   "source": [
    "data_dot_product  # Table 6"
   ]
  },
  {
   "cell_type": "code",
   "execution_count": null,
   "metadata": {
    "ExecuteTime": {
     "end_time": "2021-04-11T15:19:20.251386Z",
     "start_time": "2021-04-11T15:19:20.203154Z"
    }
   },
   "outputs": [],
   "source": [
    "for m in [3, 6, 12]:\n",
    "    for p in ['1', '2']:\n",
    "        d = data_dot_product\n",
    "        d = d[d['num_layers'] == m]\n",
    "        d = d[d['p'] == p]\n",
    "        a = float(d[d['Method'] == 'DeepT-Fast-Linf-First'][\"avg_eps\"])\n",
    "        b = float(d[d['Method'] == 'DeepT-Fast-Lp-First'][\"avg_eps\"])\n",
    "        print(f\"p={p.ljust(3)} {m: 3.0f} layers - Improvement: {(a/b - 1)*100:.2f}%\")\n",
    "    print()"
   ]
  },
  {
   "cell_type": "code",
   "execution_count": null,
   "metadata": {
    "ExecuteTime": {
     "end_time": "2021-04-11T15:19:20.269320Z",
     "start_time": "2021-04-11T15:19:20.254071Z"
    }
   },
   "outputs": [],
   "source": [
    "data_standard_layer_norm # Table 7"
   ]
  },
  {
   "cell_type": "code",
   "execution_count": null,
   "metadata": {
    "ExecuteTime": {
     "end_time": "2021-04-11T15:19:20.276831Z",
     "start_time": "2021-04-11T15:19:20.271903Z"
    }
   },
   "outputs": [],
   "source": [
    "list((BASE_PATH.parent / 'synonym').glob(\"*\"))\n",
    "\n",
    "#data_synonym # Table 8"
   ]
  },
  {
   "cell_type": "code",
   "execution_count": null,
   "metadata": {
    "ExecuteTime": {
     "end_time": "2021-04-11T15:19:20.307285Z",
     "start_time": "2021-04-11T15:19:20.285648Z"
    }
   },
   "outputs": [],
   "source": [
    "SYNONYM_DIR = BASE_PATH.parent / 'synonym'  # Table 8\n",
    "\n",
    "baf = 'resultsSynonym_sstSubset_small3_big_baf_inf_None_None_NoConstraint_Mar04_15-17-22.csv'\n",
    "deepT = 'resultsSynonym_sstSubset_small3_big_zonotope_inf_box_7000_WithConstraint_Mar04_15-28-11.csv'\n",
    "\n",
    "baf_results = pd.read_csv(SYNONYM_DIR / baf)\n",
    "deepT_results = pd.read_csv(SYNONYM_DIR / deepT)\n",
    "\n",
    "num_sentences = len(deepT_results)\n",
    "num_verified_sentences_baf = baf_results.isSafe.sum()\n",
    "time_baf = baf_results.timing.mean()\n",
    "\n",
    "num_verified_sentences_deepT = deepT_results.isSafe.sum()\n",
    "time_deepT = deepT_results.timing.mean()\n",
    "\n",
    "print(\"Synonym results\")\n",
    "print(f\"Baf:   {num_verified_sentences_baf}/{num_sentences} sentences verified (avg time: {time_baf:.2f}s)\")\n",
    "print(f\"DeepT: {num_verified_sentences_deepT}/{num_sentences} sentences verified (avg time: {time_deepT:.2f}s)\")"
   ]
  },
  {
   "cell_type": "code",
   "execution_count": null,
   "metadata": {
    "ExecuteTime": {
     "end_time": "2021-04-11T15:19:20.326018Z",
     "start_time": "2021-04-11T15:19:20.309760Z"
    }
   },
   "outputs": [],
   "source": [
    "VISION_DIR = BASE_PATH.parent / 'vit'  # Table 11\n",
    "\n",
    "print(\"Vision Transformers results\")\n",
    "\n",
    "for p in [1, 2, 100]:\n",
    "    filename = list(VISION_DIR.glob(f\"resultsVit_p_{p}_*.csv\"))[0]\n",
    "    data = pd.read_csv(filename)\n",
    "    min_eps = float(data.eps.min())\n",
    "    avg_eps = float(data.eps.mean())\n",
    "    avg_time = float(data.timing.mean())\n",
    "    \n",
    "    if p == 100:\n",
    "        norm = 'inf'\n",
    "    else:\n",
    "        norm = f'{p}  '\n",
    "    \n",
    "    print(f\"p={norm}    min_eps={min_eps:.3f}   avg_eps={avg_eps:.3f}   avg_time={avg_time:.3f}s\")"
   ]
  },
  {
   "cell_type": "code",
   "execution_count": null,
   "metadata": {
    "ExecuteTime": {
     "end_time": "2021-04-11T15:19:20.352205Z",
     "start_time": "2021-04-11T15:19:20.327611Z"
    }
   },
   "outputs": [],
   "source": [
    "data_constraint  # Table 13"
   ]
  },
  {
   "cell_type": "code",
   "execution_count": null,
   "metadata": {
    "ExecuteTime": {
     "end_time": "2021-04-11T15:19:20.394097Z",
     "start_time": "2021-04-11T15:19:20.355210Z"
    }
   },
   "outputs": [],
   "source": [
    "for p in ['1', '2', 'inf']:\n",
    "    for m in [3, 6, 12]:\n",
    "        d = data_constraint\n",
    "        d = d[d['num_layers'] == m]\n",
    "        d = d[d['p'] == p]\n",
    "        a = float(d[d['Method'] == 'DeepT-Fast'][\"avg_eps\"])\n",
    "        b = float(d[d['Method'] == 'DeepT-Fast-No-Constraint'][\"avg_eps\"])\n",
    "        print(f\"p={p.ljust(3)} {m: 3.0f} layers - Improvement: {(a/b - 1)*100:.2f}%\")\n",
    "    print()"
   ]
  }
 ],
 "metadata": {
  "kernelspec": {
   "display_name": "Python 3",
   "language": "python",
   "name": "python3"
  },
  "language_info": {
   "codemirror_mode": {
    "name": "ipython",
    "version": 3
   },
   "file_extension": ".py",
   "mimetype": "text/x-python",
   "name": "python",
   "nbconvert_exporter": "python",
   "pygments_lexer": "ipython3",
   "version": "3.8.6"
  },
  "toc": {
   "base_numbering": 1,
   "nav_menu": {},
   "number_sections": true,
   "sideBar": true,
   "skip_h1_title": false,
   "title_cell": "Table of Contents",
   "title_sidebar": "Contents",
   "toc_cell": false,
   "toc_position": {},
   "toc_section_display": true,
   "toc_window_display": false
  },
  "varInspector": {
   "cols": {
    "lenName": 16,
    "lenType": 16,
    "lenVar": 40
   },
   "kernels_config": {
    "python": {
     "delete_cmd_postfix": "",
     "delete_cmd_prefix": "del ",
     "library": "var_list.py",
     "varRefreshCmd": "print(var_dic_list())"
    },
    "r": {
     "delete_cmd_postfix": ") ",
     "delete_cmd_prefix": "rm(",
     "library": "var_list.r",
     "varRefreshCmd": "cat(var_dic_list()) "
    }
   },
   "types_to_exclude": [
    "module",
    "function",
    "builtin_function_or_method",
    "instance",
    "_Feature"
   ],
   "window_display": false
  }
 },
 "nbformat": 4,
 "nbformat_minor": 4
}